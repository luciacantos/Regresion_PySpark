{
  "nbformat": 4,
  "nbformat_minor": 0,
  "metadata": {
    "colab": {
      "provenance": []
    },
    "kernelspec": {
      "name": "python3",
      "display_name": "Python 3"
    },
    "language_info": {
      "name": "python"
    }
  },
  "cells": [
    {
      "cell_type": "markdown",
      "source": [
        "CREAR ENTORNO"
      ],
      "metadata": {
        "id": "-sKWuSIc8WM3"
      }
    },
    {
      "cell_type": "code",
      "source": [
        "!sudo apt update\n",
        "!apt-get install openjdk-8-jdk-headless -qq > /dev/null\n",
        "#Check this site for the latest download link https://www.apache.org/dyn/closer.lua/spark/spark-3.2.1/spark-3.2.1-bin-hadoop3.2.tgz\n",
        "!wget -q https://dlcdn.apache.org/spark/spark-3.2.1/spark-3.2.1-bin-hadoop3.2.tgz\n",
        "!tar xf spark-3.2.1-bin-hadoop3.2.tgz\n",
        "!pip install -q findspark\n",
        "!pip install pyspark\n",
        "!pip install py4j\n",
        "\n",
        "import os\n",
        "import sys\n",
        "# os.environ[\"JAVA_HOME\"] = \"/usr/lib/jvm/java-8-openjdk-amd64\"\n",
        "# os.environ[\"SPARK_HOME\"] = \"/content/spark-3.2.1-bin-hadoop3.2\"\n",
        "\n",
        "\n",
        "import findspark\n",
        "findspark.init()\n",
        "findspark.find()\n",
        "\n",
        "import pyspark\n",
        "\n",
        "from pyspark.sql import DataFrame, SparkSession\n",
        "from typing import List\n",
        "import pyspark.sql.types as T\n",
        "import pyspark.sql.functions as F\n",
        "\n",
        "spark= SparkSession \\\n",
        "       .builder \\\n",
        "       .appName(\"regresion_distribuida\") \\\n",
        "       .getOrCreate()\n",
        "\n",
        "spark\n"
      ],
      "metadata": {
        "colab": {
          "base_uri": "https://localhost:8080/",
          "height": 601
        },
        "id": "7-lKdNa_O-4Q",
        "outputId": "212bf54c-03ad-4207-e004-175027a59211"
      },
      "execution_count": null,
      "outputs": [
        {
          "output_type": "stream",
          "name": "stdout",
          "text": [
            "\u001b[33m\r0% [Working]\u001b[0m\r            \rGet:1 http://security.ubuntu.com/ubuntu jammy-security InRelease [110 kB]\n",
            "\u001b[33m\r0% [Waiting for headers] [1 InRelease 14.2 kB/110 kB 13%] [Connected to cloud.r\u001b[0m\r                                                                               \rHit:2 http://archive.ubuntu.com/ubuntu jammy InRelease\n",
            "\u001b[33m\r0% [Waiting for headers] [1 InRelease 43.1 kB/110 kB 39%] [Connected to cloud.r\u001b[0m\r                                                                               \rGet:3 http://archive.ubuntu.com/ubuntu jammy-updates InRelease [119 kB]\n",
            "\u001b[33m\r0% [3 InRelease 14.2 kB/119 kB 12%] [1 InRelease 53.3 kB/110 kB 48%] [Waiting f\u001b[0m\r                                                                               \rHit:4 https://developer.download.nvidia.com/compute/cuda/repos/ubuntu2204/x86_64  InRelease\n",
            "\u001b[33m\r0% [3 InRelease 15.6 kB/119 kB 13%] [1 InRelease 85.1 kB/110 kB 77%] [Waiting f\u001b[0m\r                                                                               \rHit:5 https://cloud.r-project.org/bin/linux/ubuntu jammy-cran40/ InRelease\n",
            "Hit:6 http://archive.ubuntu.com/ubuntu jammy-backports InRelease\n",
            "Get:7 http://archive.ubuntu.com/ubuntu jammy-updates/restricted amd64 Packages [2,107 kB]\n",
            "Get:8 http://archive.ubuntu.com/ubuntu jammy-updates/multiverse amd64 Packages [61.2 kB]\n",
            "Hit:9 https://ppa.launchpadcontent.net/c2d4u.team/c2d4u4.0+/ubuntu jammy InRelease\n",
            "Hit:10 https://ppa.launchpadcontent.net/deadsnakes/ppa/ubuntu jammy InRelease\n",
            "Hit:11 https://ppa.launchpadcontent.net/graphics-drivers/ppa/ubuntu jammy InRelease\n",
            "Hit:12 https://ppa.launchpadcontent.net/ubuntugis/ppa/ubuntu jammy InRelease\n",
            "Fetched 2,398 kB in 8s (301 kB/s)\n",
            "Reading package lists... Done\n",
            "Building dependency tree... Done\n",
            "Reading state information... Done\n",
            "45 packages can be upgraded. Run 'apt list --upgradable' to see them.\n",
            "tar: spark-3.2.1-bin-hadoop3.2.tgz: Cannot open: No such file or directory\n",
            "tar: Error is not recoverable: exiting now\n",
            "Requirement already satisfied: pyspark in /usr/local/lib/python3.10/dist-packages (3.5.1)\n",
            "Requirement already satisfied: py4j==0.10.9.7 in /usr/local/lib/python3.10/dist-packages (from pyspark) (0.10.9.7)\n",
            "Requirement already satisfied: py4j in /usr/local/lib/python3.10/dist-packages (0.10.9.7)\n"
          ]
        },
        {
          "output_type": "execute_result",
          "data": {
            "text/plain": [
              "<pyspark.sql.session.SparkSession at 0x79a5dcaab220>"
            ],
            "text/html": [
              "\n",
              "            <div>\n",
              "                <p><b>SparkSession - in-memory</b></p>\n",
              "                \n",
              "        <div>\n",
              "            <p><b>SparkContext</b></p>\n",
              "\n",
              "            <p><a href=\"http://9031044d85aa:4040\">Spark UI</a></p>\n",
              "\n",
              "            <dl>\n",
              "              <dt>Version</dt>\n",
              "                <dd><code>v3.5.1</code></dd>\n",
              "              <dt>Master</dt>\n",
              "                <dd><code>local[*]</code></dd>\n",
              "              <dt>AppName</dt>\n",
              "                <dd><code>Our First Spark Example</code></dd>\n",
              "            </dl>\n",
              "        </div>\n",
              "        \n",
              "            </div>\n",
              "        "
            ]
          },
          "metadata": {},
          "execution_count": 55
        }
      ]
    },
    {
      "cell_type": "code",
      "source": [
        "from pyspark.sql import SparkSession\n",
        "from pyspark.ml.feature import VectorAssembler"
      ],
      "metadata": {
        "id": "fUHDlkdcPvUO"
      },
      "execution_count": null,
      "outputs": []
    },
    {
      "cell_type": "code",
      "source": [
        "spark = SparkSession.builder.appName('regresion_distribuida').getOrCreate()"
      ],
      "metadata": {
        "id": "B7ixMa5uQAxM"
      },
      "execution_count": null,
      "outputs": []
    },
    {
      "cell_type": "markdown",
      "source": [
        "importaciones necesarias"
      ],
      "metadata": {
        "id": "9v2ClXjQ-h-L"
      }
    },
    {
      "cell_type": "code",
      "source": [
        "from pyspark.sql import SparkSession\n",
        "from pyspark.ml.regression import LinearRegression\n",
        "from pyspark.ml.feature import VectorAssembler\n",
        "from pyspark.ml.evaluation import RegressionEvaluator\n",
        "from pyspark.sql.functions import when\n",
        "from pyspark.sql.functions import col\n",
        "from pyspark.ml.feature import VectorAssembler, MinMaxScaler\n",
        "from pyspark.ml import Pipeline"
      ],
      "metadata": {
        "id": "ekjh2FalQaJv"
      },
      "execution_count": null,
      "outputs": []
    },
    {
      "cell_type": "markdown",
      "source": [
        "Trabajar con el dataset\n"
      ],
      "metadata": {
        "id": "tN9cKcVW8gsV"
      }
    },
    {
      "cell_type": "code",
      "source": [
        "data = spark.read.csv(\"Student_Performance.csv\", header=True, inferSchema=True)\n",
        "data.show(5)"
      ],
      "metadata": {
        "colab": {
          "base_uri": "https://localhost:8080/"
        },
        "id": "7c3I9cX-SEhY",
        "outputId": "b272c80c-9806-443a-97ef-361a21a999e3"
      },
      "execution_count": null,
      "outputs": [
        {
          "output_type": "stream",
          "name": "stdout",
          "text": [
            "+-------------+---------------+--------------------------+-----------+--------------------------------+-----------------+\n",
            "|Hours Studied|Previous Scores|Extracurricular Activities|Sleep Hours|Sample Question Papers Practiced|Performance Index|\n",
            "+-------------+---------------+--------------------------+-----------+--------------------------------+-----------------+\n",
            "|            7|             99|                       Yes|          9|                               1|             91.0|\n",
            "|            4|             82|                        No|          4|                               2|             65.0|\n",
            "|            8|             51|                       Yes|          7|                               2|             45.0|\n",
            "|            5|             52|                       Yes|          5|                               2|             36.0|\n",
            "|            7|             75|                        No|          8|                               5|             66.0|\n",
            "+-------------+---------------+--------------------------+-----------+--------------------------------+-----------------+\n",
            "only showing top 5 rows\n",
            "\n"
          ]
        }
      ]
    },
    {
      "cell_type": "markdown",
      "source": [
        "Tipos de variables"
      ],
      "metadata": {
        "id": "SPq_AN3J-cLS"
      }
    },
    {
      "cell_type": "code",
      "source": [
        "data.dtypes"
      ],
      "metadata": {
        "colab": {
          "base_uri": "https://localhost:8080/"
        },
        "id": "SzXAzH8rS_JV",
        "outputId": "bd5fd5eb-0f6c-490f-d10b-8ace17a19361"
      },
      "execution_count": null,
      "outputs": [
        {
          "output_type": "execute_result",
          "data": {
            "text/plain": [
              "[('Hours Studied', 'int'),\n",
              " ('Previous Scores', 'int'),\n",
              " ('Extracurricular Activities', 'string'),\n",
              " ('Sleep Hours', 'int'),\n",
              " ('Sample Question Papers Practiced', 'int'),\n",
              " ('Performance Index', 'double')]"
            ]
          },
          "metadata": {},
          "execution_count": 61
        }
      ]
    },
    {
      "cell_type": "markdown",
      "source": [
        "Cambiar la variable \"Extracurriculae Activities\" de string a int"
      ],
      "metadata": {
        "id": "im6SRAbK-aus"
      }
    },
    {
      "cell_type": "code",
      "source": [
        "def convertir_a_binario(valor):\n",
        "    return when(valor == 'Yes', 1).otherwise(0)\n",
        "\n",
        "data = data.withColumn(\"Extracurricular Activities\", convertir_a_binario(data[\"Extracurricular Activities\"]))\n",
        "\n",
        "data.write.csv(\"Student_Performance.csv_updated.csv\", header=True, mode=\"overwrite\")\n",
        "\n",
        "data.show(5)"
      ],
      "metadata": {
        "id": "pfzsQIphUXJ9",
        "colab": {
          "base_uri": "https://localhost:8080/"
        },
        "outputId": "700a9b36-9a64-4f1c-f0d7-1a5fb5a942cd"
      },
      "execution_count": null,
      "outputs": [
        {
          "output_type": "stream",
          "name": "stdout",
          "text": [
            "+-------------+---------------+--------------------------+-----------+--------------------------------+-----------------+\n",
            "|Hours Studied|Previous Scores|Extracurricular Activities|Sleep Hours|Sample Question Papers Practiced|Performance Index|\n",
            "+-------------+---------------+--------------------------+-----------+--------------------------------+-----------------+\n",
            "|            7|             99|                         0|          9|                               1|             91.0|\n",
            "|            4|             82|                         0|          4|                               2|             65.0|\n",
            "|            8|             51|                         0|          7|                               2|             45.0|\n",
            "|            5|             52|                         0|          5|                               2|             36.0|\n",
            "|            7|             75|                         0|          8|                               5|             66.0|\n",
            "+-------------+---------------+--------------------------+-----------+--------------------------------+-----------------+\n",
            "only showing top 5 rows\n",
            "\n"
          ]
        }
      ]
    },
    {
      "cell_type": "markdown",
      "source": [
        "Selección de características predictoras"
      ],
      "metadata": {
        "id": "gek6dxO1-Vhd"
      }
    },
    {
      "cell_type": "code",
      "source": [
        "predictor_cols = data.select(col(\"Hours Studied\"),\n",
        "col(\"Previous Scores\"),\n",
        "col(\"Extracurricular Activities\"),\n",
        "col(\"Sleep Hours\"),\n",
        "col(\"Sample Question Papers Practiced\"),\n",
        "col(\"Performance Index\"))"
      ],
      "metadata": {
        "id": "a5bn7czY25Zh"
      },
      "execution_count": null,
      "outputs": []
    },
    {
      "cell_type": "code",
      "source": [
        "assembler = VectorAssembler(\n",
        "    inputCols=[\"Previous Scores\", \"Hours Studied\", \"Sleep Hours\", \"Sample Question Papers Practiced\", \"Extracurricular Activities\"],\n",
        "    outputCol=\"features\"\n",
        ")\n",
        "\n",
        "data = assembler.transform(predictor_cols)"
      ],
      "metadata": {
        "id": "j_I4ZPxS3GbQ"
      },
      "execution_count": null,
      "outputs": []
    },
    {
      "cell_type": "markdown",
      "source": [
        "Escalado de características"
      ],
      "metadata": {
        "id": "zNn9YZSd97ao"
      }
    },
    {
      "cell_type": "code",
      "source": [
        "scaler = MinMaxScaler(inputCol=\"features\", outputCol=\"scaled_features\")\n",
        "pipeline = Pipeline(stages=[scaler])\n",
        "scalerModel = pipeline.fit(data)\n",
        "scaledData = scalerModel.transform(data)\n"
      ],
      "metadata": {
        "id": "muo0Qs0I4SCy"
      },
      "execution_count": null,
      "outputs": []
    },
    {
      "cell_type": "code",
      "source": [
        "train_data, test_data = scaledData.randomSplit([0.8, 0.2], seed=53)\n",
        "scaledData.show(5)"
      ],
      "metadata": {
        "colab": {
          "base_uri": "https://localhost:8080/"
        },
        "id": "QVZRqm8j4t36",
        "outputId": "adda7fc7-048a-427b-dd37-e5fa2d90af72"
      },
      "execution_count": null,
      "outputs": [
        {
          "output_type": "stream",
          "name": "stdout",
          "text": [
            "+-------------+---------------+--------------------------+-----------+--------------------------------+-----------------+--------------------+--------------------+\n",
            "|Hours Studied|Previous Scores|Extracurricular Activities|Sleep Hours|Sample Question Papers Practiced|Performance Index|            features|     scaled_features|\n",
            "+-------------+---------------+--------------------------+-----------+--------------------------------+-----------------+--------------------+--------------------+\n",
            "|            7|             99|                         0|          9|                               1|             91.0|[99.0,7.0,9.0,1.0...|[1.0,0.75,1.0,0.1...|\n",
            "|            4|             82|                         0|          4|                               2|             65.0|[82.0,4.0,4.0,2.0...|[0.71186440677966...|\n",
            "|            8|             51|                         0|          7|                               2|             45.0|[51.0,8.0,7.0,2.0...|[0.18644067796610...|\n",
            "|            5|             52|                         0|          5|                               2|             36.0|[52.0,5.0,5.0,2.0...|[0.20338983050847...|\n",
            "|            7|             75|                         0|          8|                               5|             66.0|[75.0,7.0,8.0,5.0...|[0.59322033898305...|\n",
            "+-------------+---------------+--------------------------+-----------+--------------------------------+-----------------+--------------------+--------------------+\n",
            "only showing top 5 rows\n",
            "\n"
          ]
        }
      ]
    },
    {
      "cell_type": "markdown",
      "source": [
        "Regresión"
      ],
      "metadata": {
        "id": "2sAW7J4U-2ir"
      }
    },
    {
      "cell_type": "code",
      "source": [
        "regresion = LinearRegression(featuresCol=\"scaled_features\", labelCol=\"Performance Index\", predictionCol=\"prediction\")\n",
        "regresion_model = regresion.fit(train_data)\n",
        "predictions = regresion_model.transform(test_data)\n",
        "\n",
        "predictions.select(\"Performance Index\", \"Prediction\").show()\n",
        "\n"
      ],
      "metadata": {
        "colab": {
          "base_uri": "https://localhost:8080/"
        },
        "id": "gRvhdArx5q6T",
        "outputId": "90cc0e92-900e-4070-b9df-8fe10f88903f"
      },
      "execution_count": null,
      "outputs": [
        {
          "output_type": "stream",
          "name": "stdout",
          "text": [
            "+-----------------+------------------+\n",
            "|Performance Index|        Prediction|\n",
            "+-----------------+------------------+\n",
            "|             13.0|12.124187190586605|\n",
            "|             12.0|13.284021405411275|\n",
            "|             11.0|13.939454085374482|\n",
            "|             13.0| 15.27850248354692|\n",
            "|             14.0|13.232518664831886|\n",
            "|             15.0|15.047785559619763|\n",
            "|             16.0|15.887295758843393|\n",
            "|             17.0| 17.50925695116049|\n",
            "|             18.0| 17.89586835610205|\n",
            "|             16.0|15.760277445713132|\n",
            "|             16.0|16.519408736473235|\n",
            "|             17.0|17.485937248827128|\n",
            "|             17.0|16.222404423205564|\n",
            "|             15.0|17.858457134645672|\n",
            "|             15.0|17.061914622429192|\n",
            "|             22.0| 18.40096302060163|\n",
            "|             19.0| 19.03307599823147|\n",
            "|             19.0|19.122683089905355|\n",
            "|             22.0| 20.37212439640391|\n",
            "|             22.0|18.429839188485772|\n",
            "+-----------------+------------------+\n",
            "only showing top 20 rows\n",
            "\n"
          ]
        }
      ]
    },
    {
      "cell_type": "markdown",
      "source": [
        "La medida del rendimiento académico de cada estudiante. Los valores están\n",
        "comprendidos entre 10 y 100, indicando los valores más altos un mayor rendimiento académico.\n"
      ],
      "metadata": {
        "id": "YMmOw63g_gm5"
      }
    },
    {
      "cell_type": "markdown",
      "source": [
        "Se valuará el modelo mediante Root Mean Squared Error."
      ],
      "metadata": {
        "id": "2P4J2yrZ-7WH"
      }
    },
    {
      "cell_type": "code",
      "source": [
        "evaluator = RegressionEvaluator(labelCol=\"Performance Index\", predictionCol=\"prediction\", metricName=\"rmse\")\n",
        "\n",
        "rmse = evaluator.evaluate(predictions)\n",
        "\n",
        "print(\"Root Mean Squared Error (RMSE):\", rmse)\n"
      ],
      "metadata": {
        "colab": {
          "base_uri": "https://localhost:8080/"
        },
        "id": "d-mKKvsi6Yoh",
        "outputId": "66da22a4-dd26-4608-ee2d-e567a1620af0"
      },
      "execution_count": null,
      "outputs": [
        {
          "output_type": "stream",
          "name": "stdout",
          "text": [
            "Root Mean Squared Error (RMSE): 2.047937763853028\n"
          ]
        }
      ]
    }
  ]
}